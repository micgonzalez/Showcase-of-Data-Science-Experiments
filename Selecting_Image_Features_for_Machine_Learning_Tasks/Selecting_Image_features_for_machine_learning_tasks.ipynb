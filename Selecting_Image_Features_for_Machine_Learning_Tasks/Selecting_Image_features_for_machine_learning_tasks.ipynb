{
 "cells": [
  {
   "cell_type": "markdown",
   "metadata": {},
   "source": [
    "# Image Features for Machine Learning Tasks"
   ]
  },
  {
   "cell_type": "markdown",
   "metadata": {},
   "source": [
    "                          By Michael Gonzalez\n",
    "                                    \n",
    "This notebook will have three parts to it. These three parts are needed, when you want to create features from images. I have an example image of an airplane that is 256 pixels by 256 pixels. I will use this image to demonstrate the first two parts of this process. I will demonstrate each part and give a breif description on why it is useful to create features from images. Below is an overview of the three parts: \n",
    "\n",
    "   * The first part is called creating features for machine learning. \n",
    "   * The second part is called encoding mean color as a feature.\n",
    "   * The third part is called encoding color histograms as features."
   ]
  },
  {
   "cell_type": "code",
   "execution_count": 1,
   "metadata": {},
   "outputs": [],
   "source": [
    "# Importing the needed libraries.\n",
    "import cv2 \n",
    "import numpy as np\n",
    "from matplotlib import pyplot as plt"
   ]
  },
  {
   "cell_type": "markdown",
   "metadata": {},
   "source": [
    "## Creating Features for Machine learning  "
   ]
  },
  {
   "cell_type": "code",
   "execution_count": 2,
   "metadata": {},
   "outputs": [
    {
     "data": {
      "text/plain": [
       "array([255, 255, 255, 254, 238, 255, 255, 255, 255, 255, 255, 252, 253,\n",
       "       203, 209, 211, 216, 254, 255, 255, 252, 221, 214, 218, 227, 254,\n",
       "       252, 254,  80, 144, 255, 246, 216, 211, 214, 209, 104, 189, 253,\n",
       "       255, 255, 215, 226, 142, 194, 136, 139, 113, 171, 255, 241, 224,\n",
       "       221, 168, 238, 237, 228, 224, 230, 255, 255, 255, 234, 250, 233,\n",
       "       224, 255, 255, 255, 253, 255, 249, 254, 223, 251, 253, 255, 255,\n",
       "       255, 252, 249, 209, 168, 155, 156, 163, 186, 204, 227, 254, 255,\n",
       "       243, 241, 239, 239, 239, 243, 245, 247, 255], dtype=uint8)"
      ]
     },
     "execution_count": 2,
     "metadata": {},
     "output_type": "execute_result"
    }
   ],
   "source": [
    "# Loading the image in the grayscale state.\n",
    "image = cv2.imread(\".../airplane_256_x_256.jpg\", cv2.IMREAD_GRAYSCALE)\n",
    "\n",
    "# Resize the image to a smaller size for easier computing.\n",
    "image_10x10 = cv2.resize(image, (10, 10))\n",
    "\n",
    "# Converting the image's data to a 1-D vector.\n",
    "image_10x10.flatten()"
   ]
  },
  {
   "cell_type": "code",
   "execution_count": 3,
   "metadata": {},
   "outputs": [
    {
     "data": {
      "image/png": "[encoded data removed]",
      "text/plain": [
       "<Figure size 432x288 with 1 Axes>"
      ]
     },
     "metadata": {
      "needs_background": "light"
     },
     "output_type": "display_data"
    }
   ],
   "source": [
    "# Plotting out the grayscale image result from the above changes.\n",
    "plt.imshow(image_10x10, cmap = \"gray\"), plt.axis(\"off\")\n",
    "plt.show()"
   ]
  },
  {
   "cell_type": "markdown",
   "metadata": {},
   "source": [
    "Wow, this is a cool way to deal with grayscale images. What about color images? Well that is a great question. In the next section I will demonstrate a similar way to deal with color images."
   ]
  },
  {
   "cell_type": "code",
   "execution_count": 4,
   "metadata": {},
   "outputs": [
    {
     "data": {
      "text/plain": [
       "array([255, 255, 255, 255, 255, 255, 255, 255, 255, 254, 254, 254, 253,\n",
       "       243, 223, 255, 255, 255, 255, 255, 255, 255, 255, 255, 255, 255,\n",
       "       255, 255, 255, 255, 255, 255, 255, 255, 253, 246, 254, 253, 252,\n",
       "       251, 213, 165, 250, 218, 177, 250, 220, 179, 251, 223, 188, 253,\n",
       "       254, 255, 255, 255, 255, 255, 255, 255, 255, 252, 247, 253, 228,\n",
       "       195, 248, 221, 185, 251, 225, 192, 251, 232, 209, 255, 253, 252,\n",
       "       251, 252, 253, 255, 254, 252, 146,  77,  60, 122, 140, 160, 255,\n",
       "       255, 255, 250, 249, 239, 244, 225, 189, 251, 220, 179, 249, 224,\n",
       "       180, 245, 216, 180, 153, 100,  93, 202, 187, 187, 251, 252, 255,\n",
       "       255, 255, 255, 253, 255, 255, 244, 221, 191, 244, 231, 208, 167,\n",
       "       140, 138, 229, 192, 184, 170, 133, 129, 173, 138, 128, 137, 109,\n",
       "       111, 199, 172, 157, 255, 255, 255, 250, 241, 236, 247, 229, 206,\n",
       "       238, 224, 209, 187, 167, 163, 252, 241, 228, 253, 240, 225, 240,\n",
       "       231, 217, 242, 229, 207, 253, 235, 213, 255, 254, 255, 255, 255,\n",
       "       255, 255, 255, 251, 250, 238, 220, 252, 250, 249, 245, 236, 222,\n",
       "       240, 228, 212, 255, 255, 255, 255, 255, 255, 255, 255, 254, 255,\n",
       "       254, 250, 255, 255, 255, 251, 248, 249, 252, 254, 254, 228, 224,\n",
       "       219, 252, 251, 250, 255, 254, 252, 255, 255, 255, 255, 255, 254,\n",
       "       252, 254, 255, 252, 252, 252, 248, 249, 249, 187, 218, 199, 131,\n",
       "       184, 148, 107, 176, 131,  96, 181, 131, 107, 185, 139, 128, 205,\n",
       "       171, 165, 220, 189, 206, 234, 221, 250, 255, 254, 255, 255, 255,\n",
       "       239, 244, 243, 236, 242, 241, 234, 241, 238, 234, 241, 238, 234,\n",
       "       241, 236, 238, 245, 242, 240, 247, 244, 243, 248, 247, 255, 255,\n",
       "       255], dtype=uint8)"
      ]
     },
     "execution_count": 4,
     "metadata": {},
     "output_type": "execute_result"
    }
   ],
   "source": [
    "# Loading the image in the original state.\n",
    "image_color = cv2.imread(\".../airplane_256_x_256.jpg\", cv2.IMREAD_COLOR)\n",
    "\n",
    "# Resize the color image to a smaller size for easier computing.\n",
    "image_color_10x10 = cv2.resize(image_color, (10, 10))\n",
    "\n",
    "# Converting the color image's data to a 1-D vector.\n",
    "image_color_10x10.flatten()"
   ]
  },
  {
   "cell_type": "code",
   "execution_count": 5,
   "metadata": {},
   "outputs": [
    {
     "data": {
      "image/png": "[encoded data removed]",
      "text/plain": [
       "<Figure size 432x288 with 1 Axes>"
      ]
     },
     "metadata": {
      "needs_background": "light"
     },
     "output_type": "display_data"
    }
   ],
   "source": [
    "# Plotting out the color image result from the above changes.\n",
    "plt.imshow(image_color_10x10, cmap = \"Accent\"), plt.axis(\"off\")\n",
    "plt.show()"
   ]
  },
  {
   "cell_type": "markdown",
   "metadata": {},
   "source": [
    "## Encoding Mean Color as a Feature "
   ]
  },
  {
   "cell_type": "code",
   "execution_count": 6,
   "metadata": {},
   "outputs": [
    {
     "data": {
      "text/plain": [
       "array([[217.42352295, 227.31364441, 230.72209167]])"
      ]
     },
     "execution_count": 6,
     "metadata": {},
     "output_type": "execute_result"
    }
   ],
   "source": [
    "# Loading the image as BGR.\n",
    "image_bgr = cv2.imread(\".../airplane_256_x_256.jpg\", cv2.IMREAD_COLOR)\n",
    "\n",
    "# Calculating the mean of each color channel.\n",
    "channels = cv2.mean(image_bgr)\n",
    "\n",
    "# Swapping the blue and red values to RGB.\n",
    "observation = np.array([(channels[2], channels[1], channels[0])])\n",
    "\n",
    "# Displaying the mean channel values for each color.\n",
    "observation"
   ]
  },
  {
   "cell_type": "code",
   "execution_count": 7,
   "metadata": {},
   "outputs": [
    {
     "data": {
      "image/png": "[encoded data removed]",
      "text/plain": [
       "<Figure size 432x288 with 1 Axes>"
      ]
     },
     "metadata": {
      "needs_background": "light"
     },
     "output_type": "display_data"
    }
   ],
   "source": [
    "# Plotting out the mean channel values for each color.\n",
    "plt.imshow(observation), plt.axis(\"off\")\n",
    "plt.show()"
   ]
  },
  {
   "cell_type": "markdown",
   "metadata": {},
   "source": [
    "## Encoding Color Histogram Features "
   ]
  },
  {
   "cell_type": "code",
   "execution_count": 8,
   "metadata": {},
   "outputs": [
    {
     "data": {
      "text/plain": [
       "array([11.,  4.,  1.,  3.,  3.], dtype=float32)"
      ]
     },
     "execution_count": 8,
     "metadata": {},
     "output_type": "execute_result"
    }
   ],
   "source": [
    "# Converting the image to RGB.\n",
    "image_rgb = cv2.cvtColor(image_bgr, cv2.COLOR_BGR2RGB)\n",
    "\n",
    "# Creating a list for the feature values.\n",
    "features = []\n",
    "\n",
    "# Calculating the histogram for each color channel.\n",
    "colors = (\"r\", \"g\", \"b\")\n",
    "\n",
    "#For each color channel: histogram and feature value list.\n",
    "for i, channel in enumerate(colors):\n",
    "    histogram = cv2.calcHist([image_rgb], [i], None, [256], [0, 256])\n",
    "    features.extend(histogram)\n",
    "    \n",
    "# Creating a vector for an observation's feature value.\n",
    "observation = np.array(features).flatten()\n",
    "\n",
    "# Displaying the observation's value for the first five features.\n",
    "observation[0:5]"
   ]
  },
  {
   "cell_type": "markdown",
   "metadata": {},
   "source": [
    "This is pretty cool, but we can't really tell if they are any insights. I will be redoing the feature list with a proper histogram."
   ]
  },
  {
   "cell_type": "code",
   "execution_count": 9,
   "metadata": {},
   "outputs": [
    {
     "data": {
      "image/png": "[encoded data removed]",
      "text/plain": [
       "<Figure size 432x288 with 1 Axes>"
      ]
     },
     "metadata": {
      "needs_background": "light"
     },
     "output_type": "display_data"
    }
   ],
   "source": [
    "#Redoing each color channel: histogram and feature value list.\n",
    "for i, channel in enumerate(colors):\n",
    "    histogram = cv2.calcHist([image_rgb], [i], None, [256], [0, 256])\n",
    "    plt.plot(histogram, color = channel)\n",
    "    plt.xlim([0, 256])\n",
    "    \n",
    "# Here is where we get to see a visual of the feature value list.\n",
    "plt.show()"
   ]
  },
  {
   "cell_type": "code",
   "execution_count": null,
   "metadata": {},
   "outputs": [],
   "source": []
  }
 ],
 "metadata": {
  "kernelspec": {
   "display_name": "Python 3",
   "language": "python",
   "name": "python3"
  },
  "language_info": {
   "codemirror_mode": {
    "name": "ipython",
    "version": 3
   },
   "file_extension": ".py",
   "mimetype": "text/x-python",
   "name": "python",
   "nbconvert_exporter": "python",
   "pygments_lexer": "ipython3",
   "version": "3.8.8"
  }
 },
 "nbformat": 4,
 "nbformat_minor": 4
}
